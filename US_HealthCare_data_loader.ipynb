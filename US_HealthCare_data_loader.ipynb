{
 "cells": [
  {
   "cell_type": "code",
   "execution_count": 57,
   "id": "ce5228c2",
   "metadata": {},
   "outputs": [],
   "source": [
    "import pyodbc\n",
    "import os\n",
    "import pandas as pd"
   ]
  },
  {
   "cell_type": "code",
   "execution_count": 58,
   "id": "7c361cd6",
   "metadata": {},
   "outputs": [],
   "source": [
    "# Connect to SQL server\n",
    "driver = \"SQL Server\"\n",
    "server = \"LOCAL_SQL_SERVER_NAME\"\n",
    "port = 1433\n",
    "conn_str = f\"DRIVER={driver};Server={server};port={port};\"\n",
    "conn = pyodbc.connect(conn_str)\n",
    "curs = conn.cursor()"
   ]
  },
  {
   "cell_type": "code",
   "execution_count": 59,
   "id": "cd9e92ec",
   "metadata": {},
   "outputs": [
    {
     "data": {
      "text/plain": [
       "<pyodbc.Cursor at 0x1c41cc9f030>"
      ]
     },
     "execution_count": 59,
     "metadata": {},
     "output_type": "execute_result"
    }
   ],
   "source": [
    "# Create Database\n",
    "q = \"use master\"\n",
    "curs.execute(q)\n",
    "\n",
    "q = \"create database us_healthcare\"\n",
    "curs.execute(q)\n",
    "\n",
    "q = \"use us_healthcare\"\n",
    "curs.execute(q)"
   ]
  },
  {
   "cell_type": "code",
   "execution_count": 60,
   "id": "cf7a0544",
   "metadata": {},
   "outputs": [],
   "source": [
    "#get all file contain .sql ext\n",
    "def get_file_list(folder_path):\n",
    "    for root, dirs, files in os.walk(folder_path):\n",
    "        for filename in files:\n",
    "            if '.sql' in filename:\n",
    "                p = os.path.join(root.replace(r'/', '\\\\'), filename)\n",
    "                yield p"
   ]
  },
  {
   "cell_type": "code",
   "execution_count": 61,
   "id": "d369bfff",
   "metadata": {},
   "outputs": [
    {
     "name": "stdout",
     "output_type": "stream",
     "text": [
      "HealthcareTables\\Address\\Address.sql\n",
      "HealthcareTables\\Claim\\Claim.sql\n",
      "HealthcareTables\\Contain\\Contain.sql\n",
      "HealthcareTables\\Disease\\Disease.sql\n",
      "HealthcareTables\\InsuranceCompany\\InsuranceCompany.sql\n",
      "HealthcareTables\\InsurancePlan\\InsurancePlan.sql\n",
      "HealthcareTables\\Keep\\Keep.sql\n",
      "HealthcareTables\\Medicine\\Medicine.sql\n",
      "HealthcareTables\\Patient\\Patient.sql\n",
      "HealthcareTables\\Person\\Person.sql\n",
      "HealthcareTables\\Pharmacy\\Pharmacy.sql\n",
      "HealthcareTables\\Prescription\\Prescription.sql\n",
      "HealthcareTables\\Treatment\\Treatment.sql\n"
     ]
    }
   ],
   "source": [
    "folder_path = \"HealthcareTables/\"\n",
    "error_commands = []\n",
    "for p in get_file_list(folder_path):\n",
    "    print(p)\n",
    "    with open(p) as f:\n",
    "        res = f.read()\n",
    "        list_of_comm = res.split(\";\")\n",
    "#         print(list_of_comm)\n",
    "        for command in list_of_comm:\n",
    "#             print(command)\n",
    "            try:\n",
    "                curs.execute(command)\n",
    "                curs.commit()\n",
    "            except Exception:\n",
    "                error_commands.append(command)"
   ]
  },
  {
   "cell_type": "code",
   "execution_count": 25,
   "id": "de425dc8",
   "metadata": {},
   "outputs": [],
   "source": [
    "error_commands_again = []\n",
    "for command in error_commands:\n",
    "#     print(command)\n",
    "    try:\n",
    "        curs.execute(command)\n",
    "        curs.commit()\n",
    "    except Exception as e:\n",
    "        error_commands_again.append((command, e))"
   ]
  },
  {
   "cell_type": "code",
   "execution_count": 63,
   "id": "1bebc0ae",
   "metadata": {},
   "outputs": [],
   "source": [
    "df = pd.DataFrame(error_commands_again)"
   ]
  },
  {
   "cell_type": "code",
   "execution_count": 64,
   "id": "8375829a",
   "metadata": {},
   "outputs": [
    {
     "data": {
      "text/html": [
       "<div>\n",
       "<style scoped>\n",
       "    .dataframe tbody tr th:only-of-type {\n",
       "        vertical-align: middle;\n",
       "    }\n",
       "\n",
       "    .dataframe tbody tr th {\n",
       "        vertical-align: top;\n",
       "    }\n",
       "\n",
       "    .dataframe thead th {\n",
       "        text-align: right;\n",
       "    }\n",
       "</style>\n",
       "<table border=\"1\" class=\"dataframe\">\n",
       "  <thead>\n",
       "    <tr style=\"text-align: right;\">\n",
       "      <th></th>\n",
       "      <th>1</th>\n",
       "    </tr>\n",
       "  </thead>\n",
       "  <tbody>\n",
       "    <tr>\n",
       "      <th>0</th>\n",
       "      <td>[('42000',  \"[42000] [Microsoft][ODBC SQL Serv...</td>\n",
       "    </tr>\n",
       "    <tr>\n",
       "      <th>1</th>\n",
       "      <td>[('42000',  \"[42000] [Microsoft][ODBC SQL Serv...</td>\n",
       "    </tr>\n",
       "    <tr>\n",
       "      <th>2</th>\n",
       "      <td>[('42000',  \"[42000] [Microsoft][ODBC SQL Serv...</td>\n",
       "    </tr>\n",
       "    <tr>\n",
       "      <th>3</th>\n",
       "      <td>[('42000',  \"[42000] [Microsoft][ODBC SQL Serv...</td>\n",
       "    </tr>\n",
       "    <tr>\n",
       "      <th>4</th>\n",
       "      <td>[('42000',  \"[42000] [Microsoft][ODBC SQL Serv...</td>\n",
       "    </tr>\n",
       "    <tr>\n",
       "      <th>...</th>\n",
       "      <td>...</td>\n",
       "    </tr>\n",
       "    <tr>\n",
       "      <th>228</th>\n",
       "      <td>[('23000',  \"[23000] [Microsoft][ODBC SQL Serv...</td>\n",
       "    </tr>\n",
       "    <tr>\n",
       "      <th>229</th>\n",
       "      <td>[('23000',  \"[23000] [Microsoft][ODBC SQL Serv...</td>\n",
       "    </tr>\n",
       "    <tr>\n",
       "      <th>230</th>\n",
       "      <td>[('23000',  \"[23000] [Microsoft][ODBC SQL Serv...</td>\n",
       "    </tr>\n",
       "    <tr>\n",
       "      <th>231</th>\n",
       "      <td>[('23000',  \"[23000] [Microsoft][ODBC SQL Serv...</td>\n",
       "    </tr>\n",
       "    <tr>\n",
       "      <th>232</th>\n",
       "      <td>[('23000',  \"[23000] [Microsoft][ODBC SQL Serv...</td>\n",
       "    </tr>\n",
       "  </tbody>\n",
       "</table>\n",
       "<p>233 rows × 1 columns</p>\n",
       "</div>"
      ],
      "text/plain": [
       "                                                     1\n",
       "0    [('42000',  \"[42000] [Microsoft][ODBC SQL Serv...\n",
       "1    [('42000',  \"[42000] [Microsoft][ODBC SQL Serv...\n",
       "2    [('42000',  \"[42000] [Microsoft][ODBC SQL Serv...\n",
       "3    [('42000',  \"[42000] [Microsoft][ODBC SQL Serv...\n",
       "4    [('42000',  \"[42000] [Microsoft][ODBC SQL Serv...\n",
       "..                                                 ...\n",
       "228  [('23000',  \"[23000] [Microsoft][ODBC SQL Serv...\n",
       "229  [('23000',  \"[23000] [Microsoft][ODBC SQL Serv...\n",
       "230  [('23000',  \"[23000] [Microsoft][ODBC SQL Serv...\n",
       "231  [('23000',  \"[23000] [Microsoft][ODBC SQL Serv...\n",
       "232  [('23000',  \"[23000] [Microsoft][ODBC SQL Serv...\n",
       "\n",
       "[233 rows x 1 columns]"
      ]
     },
     "execution_count": 64,
     "metadata": {},
     "output_type": "execute_result"
    }
   ],
   "source": [
    "pd.DataFrame(df[1].astype(str).str.split(\",\"))"
   ]
  },
  {
   "cell_type": "code",
   "execution_count": 65,
   "id": "bb50c6d4",
   "metadata": {},
   "outputs": [],
   "source": [
    "def get_code(err):\n",
    "    string = str(err)\n",
    "    res = string.split(\",\")\n",
    "    return res[0].replace(\"(\", \"\")"
   ]
  },
  {
   "cell_type": "code",
   "execution_count": 66,
   "id": "5b9da00e",
   "metadata": {},
   "outputs": [],
   "source": [
    "df[\"err_code\"] = df[1].apply(lambda x: get_code(x))"
   ]
  },
  {
   "cell_type": "code",
   "execution_count": 67,
   "id": "a09ba273",
   "metadata": {},
   "outputs": [
    {
     "data": {
      "text/plain": [
       "array([\"'42000'\", \"'23000'\"], dtype=object)"
      ]
     },
     "execution_count": 67,
     "metadata": {},
     "output_type": "execute_result"
    }
   ],
   "source": [
    "df[\"err_code\"].unique()"
   ]
  },
  {
   "cell_type": "code",
   "execution_count": null,
   "id": "058e2b35",
   "metadata": {},
   "outputs": [],
   "source": []
  }
 ],
 "metadata": {
  "kernelspec": {
   "display_name": "Python 3 (ipykernel)",
   "language": "python",
   "name": "python3"
  },
  "language_info": {
   "codemirror_mode": {
    "name": "ipython",
    "version": 3
   },
   "file_extension": ".py",
   "mimetype": "text/x-python",
   "name": "python",
   "nbconvert_exporter": "python",
   "pygments_lexer": "ipython3",
   "version": "3.10.9"
  }
 },
 "nbformat": 4,
 "nbformat_minor": 5
}
